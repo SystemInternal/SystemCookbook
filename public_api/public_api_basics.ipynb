{
 "cells": [
  {
   "cell_type": "markdown",
   "metadata": {},
   "source": [
    "# System Public API Examples\n",
    "\n",
    "This notebook provides basic examples of how to use System's public API. Full documentation is available on our [API documentation site](https://systeminternal.github.io/api/).\n",
    "\n",
    "Running these examples requires you to have an API key, provided by System. Please contact us at [api@system.com](mailto:api@system.com) if you are interested in exploring our public API."
   ]
  },
  {
   "cell_type": "markdown",
   "metadata": {},
   "source": [
    "## 1. Import libraries and define helper functions"
   ]
  },
  {
   "cell_type": "code",
   "execution_count": null,
   "metadata": {},
   "outputs": [],
   "source": [
    "!pip install api-client==1.22.0 --extra-index-url https://pypi.fury.io/systeminc/\n",
    "!pip install pandas"
   ]
  },
  {
   "cell_type": "code",
   "execution_count": 5,
   "metadata": {},
   "outputs": [],
   "source": [
    "import api_client\n",
    "import pandas as pd\n",
    "import json\n",
    "import os"
   ]
  },
  {
   "cell_type": "code",
   "execution_count": 6,
   "metadata": {},
   "outputs": [],
   "source": [
    "def pprint_finding(f):\n",
    "    print(f\"{f.variable_1_name} - ({f.statistic_type}: {f.statistic_value}) -> {f.variable_2_name}\")\n",
    "\n",
    "def pprint_topic(t):\n",
    "    print(f\"{t.name} ({t.topic_id})\")\n",
    "    \n",
    "_FINDING_COLUMNS = ['id', 'variable_1', 'statistic_type', 'statistic_value', 'ci_upper', 'ci_lower', 'p_value']"
   ]
  },
  {
   "cell_type": "markdown",
   "metadata": {},
   "source": [
    "## 2. Create a service client and initialize endpoints"
   ]
  },
  {
   "cell_type": "code",
   "execution_count": null,
   "metadata": {},
   "outputs": [],
   "source": [
    "%env YOUR_API_KEY=<your-api-key>"
   ]
  },
  {
   "cell_type": "code",
   "execution_count": 8,
   "metadata": {},
   "outputs": [],
   "source": [
    "API_KEY = os.environ.get(\"YOUR_API_KEY\")\n",
    "system_client = api_client.ApiClient(header_name=\"x-api-key\", header_value=API_KEY)\n",
    "\n",
    "topics_api = api_client.api.topics_api.TopicsApi(system_client)\n",
    "relationships_api = api_client.api.relationships_api.RelationshipsApi(system_client)\n",
    "studies_api = api_client.api.studies_api.StudiesApi(system_client)\n",
    "variables_api = api_client.api.variables_api.VariablesApi(system_client)\n",
    "findings_api = api_client.api.statistical_findings_api.StatisticalFindingsApi(system_client)"
   ]
  },
  {
   "cell_type": "markdown",
   "metadata": {},
   "source": [
    "## 3. Search for and retrieve a topic"
   ]
  },
  {
   "cell_type": "code",
   "execution_count": 9,
   "metadata": {},
   "outputs": [],
   "source": [
    "def search_topic_by_name(topic_name: str):\n",
    "  print(f\"Search for a topic by name ({topic_name}): \")\n",
    "  fetched_topics = topics_api.get_topics(search=f\"name:{topic_name}\")\n",
    "  topics_json = [json.loads(topic.json()) for topic in fetched_topics.data]\n",
    "  df = pd.DataFrame(topics_json)\n",
    "  print(df)\n",
    "  print(\"\")\n",
    "  return df['id'][3]"
   ]
  },
  {
   "cell_type": "code",
   "execution_count": 11,
   "metadata": {},
   "outputs": [
    {
     "name": "stdout",
     "output_type": "stream",
     "text": [
      "Search for a topic by name (osteoporosis): \n",
      "           id                                name wikidata_id   umls_cuis  \\\n",
      "0  kELO0u-WL3  osteoporosis-pseudoglioma syndrome   Q32136402  [C0432252]   \n",
      "1  ZwLPJsQaKE         postmenopausal osteoporosis   Q55950294  [C0029458]   \n",
      "2  TzD7fS4xV9    idiopathic juvenile osteoporosis    Q6318965  [C0264080]   \n",
      "3  YCCUBPRxoV                        osteoporosis     Q165328  [C0029456]   \n",
      "\n",
      "                            category                          roles  \n",
      "0  Biomedical - Diseases & disorders  [Determinant, Outcome, Agent]  \n",
      "1  Biomedical - Diseases & disorders  [Determinant, Outcome, Agent]  \n",
      "2  Biomedical - Diseases & disorders  [Determinant, Outcome, Agent]  \n",
      "3  Biomedical - Diseases & disorders  [Determinant, Outcome, Agent]  \n",
      "\n"
     ]
    }
   ],
   "source": [
    "topic_id = search_topic_by_name(\"osteoporosis\")"
   ]
  },
  {
   "cell_type": "code",
   "execution_count": 12,
   "metadata": {},
   "outputs": [],
   "source": [
    "def search_topic_by_filter(wikidata_id: str):\n",
    "  print(f\"Filter topics by Wikidata ID ({wikidata_id}): \")\n",
    "  fetched_topics = topics_api.get_topics(filter=f\"wikidata_id:{wikidata_id}\")\n",
    "  topics_json = [json.loads(topic.json()) for topic in fetched_topics.data]\n",
    "  df = pd.DataFrame(topics_json)\n",
    "  print(df)\n",
    "  print(\"\")\n",
    "  return df['id'][0]"
   ]
  },
  {
   "cell_type": "code",
   "execution_count": 15,
   "metadata": {},
   "outputs": [
    {
     "name": "stdout",
     "output_type": "stream",
     "text": [
      "Filter topics by Wikidata ID (Q55950294): \n",
      "           id                         name wikidata_id   umls_cuis  \\\n",
      "0  ZwLPJsQaKE  postmenopausal osteoporosis   Q55950294  [C0029458]   \n",
      "\n",
      "                            category                          roles  \n",
      "0  Biomedical - Diseases & disorders  [Determinant, Outcome, Agent]  \n",
      "\n"
     ]
    }
   ],
   "source": [
    "topic_id_from_filter = search_topic_by_filter(\"Q55950294\")"
   ]
  },
  {
   "cell_type": "code",
   "execution_count": 16,
   "metadata": {},
   "outputs": [],
   "source": [
    "def get_topic_by_id(topic_id: str):\n",
    "  print(\"Get a topic directly by id: \")\n",
    "  fetched_topic = topics_api.get_topic_by_id(topic_id)\n",
    "  topic_json = json.loads(fetched_topic.json())\n",
    "  df = pd.DataFrame([topic_json])\n",
    "  print(df)\n",
    "  print(\"\")"
   ]
  },
  {
   "cell_type": "code",
   "execution_count": 18,
   "metadata": {},
   "outputs": [
    {
     "name": "stdout",
     "output_type": "stream",
     "text": [
      "Get a topic directly by id: \n",
      "           id          name wikidata_id   umls_cuis  \\\n",
      "0  YCCUBPRxoV  osteoporosis     Q165328  [C0029456]   \n",
      "\n",
      "                            category                          roles  \n",
      "0  Biomedical - Diseases & disorders  [Determinant, Outcome, Agent]  \n",
      "\n"
     ]
    }
   ],
   "source": [
    "get_topic_by_id(topic_id)"
   ]
  },
  {
   "cell_type": "markdown",
   "metadata": {},
   "source": [
    "## 4. Retrieve variables and determinants associated with a topic"
   ]
  },
  {
   "cell_type": "code",
   "execution_count": 20,
   "metadata": {},
   "outputs": [],
   "source": [
    "def get_variables_by_topic_id(topic_id: str):\n",
    "  print(\"Get variables by topic ID: \")\n",
    "  fetched_variables = variables_api.get_variables(filter=f\"topic.id:{topic_id}\", limit=25)\n",
    "  variables_json = [json.loads(variable.json()) for variable in fetched_variables.data]\n",
    "  df = pd.DataFrame(variables_json)\n",
    "  print(df)\n",
    "  print(\"\")\n",
    "  return \"\""
   ]
  },
  {
   "cell_type": "code",
   "execution_count": null,
   "metadata": {},
   "outputs": [],
   "source": [
    "variable_id = get_variables_by_topic_id(topic_id)"
   ]
  },
  {
   "cell_type": "code",
   "execution_count": 23,
   "metadata": {},
   "outputs": [],
   "source": [
    "def get_determinants_by_topic_id(topic_id: str):\n",
    "  print(\"Get determinants by topic ID: \")\n",
    "  fetched_determinants = topics_api.get_topic_determinants(topic_id, filter=\"num_significant_findings:>1\", sort=\"median_effect_size:desc\")\n",
    "  determinants_json = [json.loads(determinant.json()) for determinant in fetched_determinants.data]\n",
    "  df = pd.DataFrame(determinants_json)\n",
    "  column_order = ['id',  'topic',  'num_findings', 'num_studies', 'num_significant_findings', 'highest_cited', 'median_effect_size', 'last_updated', 'has_experimental_trial']\n",
    "  df = df[column_order]\n",
    "  print(df)\n",
    "  print(\"\")\n",
    "  return df['id'][1]"
   ]
  },
  {
   "cell_type": "code",
   "execution_count": 25,
   "metadata": {},
   "outputs": [
    {
     "name": "stdout",
     "output_type": "stream",
     "text": [
      "Get determinants by topic ID: \n",
      "                      id                                              topic  \\\n",
      "0  MPr4sIFHU9|YCCUBPRxoV  {'id': 'MPr4sIFHU9', 'name': 'allele', 'wikida...   \n",
      "1  ELjr0Yjdsc|YCCUBPRxoV  {'id': 'ELjr0Yjdsc', 'name': 'postmenopause', ...   \n",
      "2  wWbfsY5E0d|YCCUBPRxoV  {'id': 'wWbfsY5E0d', 'name': 'sex', 'wikidata_...   \n",
      "3  HejFSI-X_z|YCCUBPRxoV  {'id': 'HejFSI-X_z', 'name': 'age group', 'wik...   \n",
      "4  EhpdS79G1u|YCCUBPRxoV  {'id': 'EhpdS79G1u', 'name': 'ethnicity and ra...   \n",
      "5  W_5xNoEZX9|YCCUBPRxoV  {'id': 'W_5xNoEZX9', 'name': 'menarche', 'wiki...   \n",
      "6  -thTZiXKag|YCCUBPRxoV  {'id': '-thTZiXKag', 'name': 'genotype', 'wiki...   \n",
      "7  i4pV-bfaG8|YCCUBPRxoV  {'id': 'i4pV-bfaG8', 'name': 'fibroblast growt...   \n",
      "8  MIpYYKT5zF|YCCUBPRxoV  {'id': 'MIpYYKT5zF', 'name': 'haplotype', 'wik...   \n",
      "9  D525NDqU1Y|YCCUBPRxoV  {'id': 'D525NDqU1Y', 'name': 'genetic polymorp...   \n",
      "\n",
      "   num_findings  num_studies  num_significant_findings  highest_cited  \\\n",
      "0             2            2                         2              9   \n",
      "1            10           10                        10              7   \n",
      "2            67           63                        61             92   \n",
      "3            30           25                        27              8   \n",
      "4            20           16                        16             53   \n",
      "5             3            3                         2             47   \n",
      "6            13            8                        11              5   \n",
      "7             7            2                         4              4   \n",
      "8             5            4                         5              9   \n",
      "9             9            4                         9              9   \n",
      "\n",
      "   median_effect_size last_updated  has_experimental_trial  \n",
      "0            1.296381   2024-06-03                   False  \n",
      "1            1.097481   2024-06-03                   False  \n",
      "2            0.776572   2024-06-11                    True  \n",
      "3            0.511754   2024-06-11                   False  \n",
      "4            0.475736   2024-06-03                   False  \n",
      "5            0.447301   2024-06-03                   False  \n",
      "6            0.444141   2024-06-03                    True  \n",
      "7            0.337379   2024-06-03                   False  \n",
      "8            0.337379   2024-06-03                   False  \n",
      "9            0.246051   2024-06-03                   False  \n",
      "\n"
     ]
    }
   ],
   "source": [
    "relationship_id = get_determinants_by_topic_id(topic_id)"
   ]
  },
  {
   "cell_type": "markdown",
   "metadata": {},
   "source": [
    "## Search for and retrieve a study"
   ]
  },
  {
   "cell_type": "code",
   "execution_count": 28,
   "metadata": {},
   "outputs": [],
   "source": [
    "def get_study_by_doi(doi: str):\n",
    "\tprint(\"Get study by DOI: \")\n",
    "\tfetched_studies = studies_api.get_studies(filter=f\"doi:{doi}\")\n",
    "\tstudies_json = [json.loads(study.json()) for study in fetched_studies.data]\n",
    "\tdf = pd.DataFrame(studies_json)\n",
    "\tprint(df)\n",
    "\tprint(\"\")\n",
    "\treturn df['id'][0]"
   ]
  },
  {
   "cell_type": "code",
   "execution_count": 29,
   "metadata": {},
   "outputs": [
    {
     "name": "stdout",
     "output_type": "stream",
     "text": [
      "Get study by DOI: \n",
      "           id                         doi  \\\n",
      "0  BwNHkghmPt  10.1016/j.bone.2010.03.017   \n",
      "\n",
      "                                               title  \\\n",
      "0  Prevalence and risk factors of osteoporosis in...   \n",
      "\n",
      "                                             authors journal publish_date  \\\n",
      "0  [{'full_name': 'Chan Soo Shin', 'orcid': '0000...    Bone   2010-08-01   \n",
      "\n",
      "  population  cited_by retraction_reason  \n",
      "0       None       117              None  \n",
      "\n"
     ]
    }
   ],
   "source": [
    "study_id = get_study_by_doi(\"10.1016/j.bone.2010.03.017\")"
   ]
  },
  {
   "cell_type": "markdown",
   "metadata": {},
   "source": [
    "## 6. Retrieve statistical findings from relationships or studies"
   ]
  },
  {
   "cell_type": "code",
   "execution_count": 30,
   "metadata": {},
   "outputs": [],
   "source": [
    "def get_findings_by_relationship_id(relationship_id: str):\n",
    "  print(\"Get findings by relationship ID: \")\n",
    "  fetched_findings = relationships_api.get_relationship_statistical_findings(relationship_id)\n",
    "  findings_json = [json.loads(finding.json()) for finding in fetched_findings.data]\n",
    "  df = pd.DataFrame(findings_json)\n",
    "  df = df[_FINDING_COLUMNS]\n",
    "  print(df)\n",
    "  print(\"\")\n",
    "  return df['id'][1]"
   ]
  },
  {
   "cell_type": "code",
   "execution_count": 32,
   "metadata": {},
   "outputs": [
    {
     "name": "stdout",
     "output_type": "stream",
     "text": [
      "Get findings by relationship ID: \n",
      "           id                                         variable_1  \\\n",
      "0  GjA1LF3Lj9  {'id': '3V4swOcx1l', 'name': 'Postmenopausal R...   \n",
      "1  E_BM4j2unD  {'id': '-ZCF1D2ouM', 'name': 'post-menopause s...   \n",
      "2  ye22t7nhbh  {'id': 'Pl93A9-O_D', 'name': 'postmenopausal s...   \n",
      "3  aGx8oVkn2o  {'id': 'VQVyc1mbWS', 'name': 'Postmenopausal w...   \n",
      "4  LtBL-kaCCf  {'id': 'C5UOcrWu3g', 'name': 'postmenopausal w...   \n",
      "5  B1OQ2yY7fx  {'id': 'VQVyc1mbWS', 'name': 'Postmenopausal w...   \n",
      "6  AAdXio0yX6  {'id': 'eLsyYFQuow', 'name': 'Post-menopausal ...   \n",
      "7  lyKucekQM5  {'id': 'cdraWaZ_On', 'name': 'postmenopausal f...   \n",
      "8  nZRejgEftk  {'id': 'CKLH8oolgJ', 'name': 'Postmenopausal w...   \n",
      "9  iYgCcdLnz2  {'id': '5IzHJFKc9Q', 'name': 'postmenopausal w...   \n",
      "\n",
      "                   statistic_type  statistic_value  ci_upper  ci_lower  \\\n",
      "0  mean_difference_unstandardized            9.600       NaN       NaN   \n",
      "1                      odds_ratio            7.320    17.600     3.050   \n",
      "2             relative_risk_ratio           11.590   116.730     1.150   \n",
      "3  mean_difference_unstandardized           -1.800       NaN       NaN   \n",
      "4                      odds_ratio           34.600   161.500     7.400   \n",
      "5  mean_difference_unstandardized           31.000       NaN       NaN   \n",
      "6  mean_difference_unstandardized           13.000       NaN       NaN   \n",
      "7  mean_difference_unstandardized           27.200       NaN       NaN   \n",
      "8  mean_difference_unstandardized           -5.800       NaN       NaN   \n",
      "9                      odds_ratio            5.165    15.138     1.762   \n",
      "\n",
      "   p_value  \n",
      "0   0.0120  \n",
      "1   0.0010  \n",
      "2      NaN  \n",
      "3   0.0010  \n",
      "4   0.0001  \n",
      "5   0.0005  \n",
      "6   0.0010  \n",
      "7   0.0001  \n",
      "8   0.0010  \n",
      "9   0.0030  \n",
      "\n"
     ]
    }
   ],
   "source": [
    "finding_from_relationship = get_findings_by_relationship_id(\"ELjr0Yjdsc|YCCUBPRxoV\")"
   ]
  },
  {
   "cell_type": "code",
   "execution_count": 36,
   "metadata": {},
   "outputs": [],
   "source": [
    "def get_findings_by_study_id(study_id: str):\n",
    "\tprint(\"Get findings by study ID: \")\n",
    "\tfetched_findings = studies_api.get_study_statistical_findings(study_id)\n",
    "\tfindings_json = [json.loads(finding.json()) for finding in fetched_findings.data]\n",
    "\tdf = pd.DataFrame(findings_json)\n",
    "\tdf = df[_FINDING_COLUMNS]\n",
    "\tprint(df)\n",
    "\tprint(\"\")\n",
    "\treturn df['id'][0]"
   ]
  },
  {
   "cell_type": "code",
   "execution_count": 37,
   "metadata": {},
   "outputs": [
    {
     "name": "stdout",
     "output_type": "stream",
     "text": [
      "Get findings by study ID: \n",
      "           id                                         variable_1  \\\n",
      "0  UgW-Nd8K5c  {'id': 'KWPYSf516x', 'name': 'having more than...   \n",
      "1  C6TEWl_9DL  {'id': 'ikQSAGll0n', 'name': 'menarche after a...   \n",
      "2  E_BM4j2unD  {'id': '-ZCF1D2ouM', 'name': 'post-menopause s...   \n",
      "3  hH8_zLfcjv  {'id': 'hazlzJQfcm', 'name': 'last delivery af...   \n",
      "4  VzaKeg1O7Q  {'id': 'ZSRCgqrjON', 'name': 'more than 17 yea...   \n",
      "5  EZnBmNHRv6  {'id': 'd4EXjJcR2n', 'name': 'smoking> or =1 p...   \n",
      "6  Z_pdKSy6EH  {'id': 'XatSLZcfba', 'name': 'past fracture hi...   \n",
      "7  lx6EfFujo0  {'id': 'R7CR1MHpOA', 'name': 'calcium intake> ...   \n",
      "8  p9OFTXZYY6  {'id': 'dIxvV7CyDq', 'name': 'monthly income a...   \n",
      "9  1G5qAWF7ng   {'id': 'ds-IcQ6tDc', 'name': 'college graduate'}   \n",
      "\n",
      "  statistic_type  statistic_value  ci_upper  ci_lower  p_value  \n",
      "0     odds_ratio             1.42      1.89      1.07    0.001  \n",
      "1     odds_ratio             1.46      1.87      1.14    0.001  \n",
      "2     odds_ratio             7.32     17.60      3.05    0.001  \n",
      "3     odds_ratio             1.58      2.09      1.20    0.001  \n",
      "4     odds_ratio             1.53      2.14      1.10    0.001  \n",
      "5     odds_ratio             1.63      2.62      1.01    0.001  \n",
      "6     odds_ratio             1.45      1.94      1.08    0.001  \n",
      "7     odds_ratio             0.65      0.98      0.43    0.001  \n",
      "8     odds_ratio             0.64      0.92      0.45    0.001  \n",
      "9     odds_ratio             0.29      0.63      0.13    0.001  \n",
      "\n"
     ]
    }
   ],
   "source": [
    "finding_from_study = get_findings_by_study_id(study_id)"
   ]
  }
 ],
 "metadata": {
  "kernelspec": {
   "display_name": "Python 3",
   "language": "python",
   "name": "python3"
  },
  "language_info": {
   "codemirror_mode": {
    "name": "ipython",
    "version": 3
   },
   "file_extension": ".py",
   "mimetype": "text/x-python",
   "name": "python",
   "nbconvert_exporter": "python",
   "pygments_lexer": "ipython3",
   "version": "3.10.9"
  }
 },
 "nbformat": 4,
 "nbformat_minor": 2
}
