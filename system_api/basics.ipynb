{
 "cells": [
  {
   "cell_type": "markdown",
   "metadata": {},
   "source": [
    "# System Public API Examples\n",
    "\n",
    "This notebook provides basic examples of how to use System's public API. Full documentation is available on our [API documentation site](https://api-docs.system.com/).\n",
    "\n",
    "Running these examples requires you to have an API key, provided by System. Please contact us at [api@system.com](mailto:api@system.com) if you are interested in exploring our public API."
   ]
  },
  {
   "cell_type": "markdown",
   "metadata": {},
   "source": [
    "## 1. Import libraries and define helper functions"
   ]
  },
  {
   "cell_type": "code",
   "execution_count": 25,
   "metadata": {},
   "outputs": [
    {
     "name": "stdout",
     "output_type": "stream",
     "text": [
      "Looking in indexes: https://pypi.org/simple, https://pypi.fury.io/systeminc/\n",
      "Requirement already satisfied: api-client==1.30.0 in ./venv/lib/python3.10/site-packages (1.30.0)\n",
      "Requirement already satisfied: aenum in ./venv/lib/python3.10/site-packages (from api-client==1.30.0) (3.1.15)\n",
      "Requirement already satisfied: urllib3<2.1.0,>=1.25.3 in ./venv/lib/python3.10/site-packages (from api-client==1.30.0) (2.0.7)\n",
      "Requirement already satisfied: python-dateutil in ./venv/lib/python3.10/site-packages (from api-client==1.30.0) (2.9.0.post0)\n",
      "Requirement already satisfied: pydantic<2,>=1.10.5 in ./venv/lib/python3.10/site-packages (from api-client==1.30.0) (1.10.17)\n",
      "Requirement already satisfied: typing-extensions>=4.2.0 in ./venv/lib/python3.10/site-packages (from pydantic<2,>=1.10.5->api-client==1.30.0) (4.12.2)\n",
      "Requirement already satisfied: six>=1.5 in ./venv/lib/python3.10/site-packages (from python-dateutil->api-client==1.30.0) (1.16.0)\n",
      "\n",
      "\u001b[1m[\u001b[0m\u001b[34;49mnotice\u001b[0m\u001b[1;39;49m]\u001b[0m\u001b[39;49m A new release of pip is available: \u001b[0m\u001b[31;49m23.0.1\u001b[0m\u001b[39;49m -> \u001b[0m\u001b[32;49m24.1.2\u001b[0m\n",
      "\u001b[1m[\u001b[0m\u001b[34;49mnotice\u001b[0m\u001b[1;39;49m]\u001b[0m\u001b[39;49m To update, run: \u001b[0m\u001b[32;49mpip install --upgrade pip\u001b[0m\n"
     ]
    }
   ],
   "source": [
    "!pip install api-client==1.30.0 --extra-index-url https://pypi.fury.io/systeminc/"
   ]
  },
  {
   "cell_type": "code",
   "execution_count": 26,
   "metadata": {},
   "outputs": [],
   "source": [
    "import api_client\n",
    "import os"
   ]
  },
  {
   "cell_type": "code",
   "execution_count": 27,
   "metadata": {},
   "outputs": [],
   "source": [
    "def pprint_topic(t):\n",
    "    print(f\"{t.name} (ID: {t.id}, Wikidata ID: {t.wikidata_id})\")\n",
    "    \n",
    "def pprint_determinant(d):\n",
    "    print(f\"{d.topic.name} (ID: {d.id}, number of findings: {d.num_findings}, median effect size: {d.median_effect_size})\")\n",
    "    \n",
    "def pprint_relationship(r):\n",
    "    print(f\"{r.source_topic.name} -> {r.target_topic.name} (ID: {r.id}, number of findings: {r.num_findings}, median effect size: {r.median_effect_size})\")\n",
    "    \n",
    "def pprint_study(s):\n",
    "    print(f\"'{s.title}', {s.publish_date} (ID: {s.id}, DOI: {s.doi})\")\n",
    "    print(f\"{s.summary}\")\n",
    "    \n",
    "def pprint_variable(v):\n",
    "\t\tprint(f\"{v.name} (ID: {v.id}, reported in {v.num_studies} studies)\")\n",
    "  \n",
    "def pprint_finding(f):\n",
    "\tprint(f\"{f.summary}\")"
   ]
  },
  {
   "cell_type": "markdown",
   "metadata": {},
   "source": [
    "## 2. Create a service client and initialize endpoints"
   ]
  },
  {
   "cell_type": "code",
   "execution_count": 48,
   "metadata": {},
   "outputs": [
    {
     "name": "stdout",
     "output_type": "stream",
     "text": [
      "env: YOUR_API_KEY=<YOUR_API_KEY>\n"
     ]
    }
   ],
   "source": [
    "%env YOUR_API_KEY=<YOUR_API_KEY>"
   ]
  },
  {
   "cell_type": "code",
   "execution_count": 29,
   "metadata": {},
   "outputs": [],
   "source": [
    "API_KEY = os.environ.get(\"YOUR_API_KEY\")\n",
    "if not API_KEY:\n",
    "\traise ValueError(\"API key is missing\")\n",
    "\n",
    "system_client = api_client.ApiClient(header_name=\"x-api-key\", header_value=API_KEY)\n",
    "\n",
    "topics_api = api_client.api.topics_api.TopicsApi(system_client)\n",
    "relationships_api = api_client.api.relationships_api.RelationshipsApi(system_client)\n",
    "studies_api = api_client.api.studies_api.StudiesApi(system_client)\n",
    "variables_api = api_client.api.variables_api.VariablesApi(system_client)\n",
    "findings_api = api_client.api.statistical_findings_api.StatisticalFindingsApi(system_client)"
   ]
  },
  {
   "cell_type": "markdown",
   "metadata": {},
   "source": [
    "## 3. Search for and retrieve a topic"
   ]
  },
  {
   "cell_type": "code",
   "execution_count": 30,
   "metadata": {},
   "outputs": [],
   "source": [
    "def search_topic_by_name(topic_name: str):\n",
    "  response = topics_api.get_topics(search=f\"name:{topic_name}\")\n",
    "  return response.data\n",
    "  "
   ]
  },
  {
   "cell_type": "code",
   "execution_count": 31,
   "metadata": {},
   "outputs": [
    {
     "name": "stdout",
     "output_type": "stream",
     "text": [
      "postmenopausal osteoporosis (ID: ZwLPJsQaKE, Wikidata ID: Q55950294)\n",
      "idiopathic juvenile osteoporosis (ID: TzD7fS4xV9, Wikidata ID: Q6318965)\n",
      "osteoporosis (ID: YCCUBPRxoV, Wikidata ID: Q165328)\n",
      "osteoporosis-pseudoglioma syndrome (ID: kELO0u-WL3, Wikidata ID: Q32136402)\n"
     ]
    }
   ],
   "source": [
    "topics = search_topic_by_name(topic_name=\"osteoporosis\")\n",
    "for t in topics:\n",
    "\tpprint_topic(t)"
   ]
  },
  {
   "cell_type": "code",
   "execution_count": 32,
   "metadata": {},
   "outputs": [],
   "source": [
    "def search_topic_by_wikidata_id(wikidata_id: str):\n",
    "  response = topics_api.get_topics(filter=f\"wikidata_id:{wikidata_id}\")\n",
    "  return response.data"
   ]
  },
  {
   "cell_type": "code",
   "execution_count": 33,
   "metadata": {},
   "outputs": [
    {
     "name": "stdout",
     "output_type": "stream",
     "text": [
      "postmenopausal osteoporosis (ID: ZwLPJsQaKE, Wikidata ID: Q55950294)\n"
     ]
    }
   ],
   "source": [
    "topics_2 = search_topic_by_wikidata_id(wikidata_id=\"Q55950294\")\n",
    "for t in topics_2:\n",
    "\tpprint_topic(t)"
   ]
  },
  {
   "cell_type": "code",
   "execution_count": 34,
   "metadata": {},
   "outputs": [],
   "source": [
    "def get_topic_by_id(topic_id: str):\n",
    "  return topics_api.get_topic_by_id(topic_id)"
   ]
  },
  {
   "cell_type": "code",
   "execution_count": 35,
   "metadata": {},
   "outputs": [
    {
     "name": "stdout",
     "output_type": "stream",
     "text": [
      "osteoporosis (ID: YCCUBPRxoV, Wikidata ID: Q165328)\n"
     ]
    }
   ],
   "source": [
    "topic_id = \"YCCUBPRxoV\" # Topic ID for 'osteoporosis'\n",
    "topic = get_topic_by_id(topic_id=topic_id) \n",
    "pprint_topic(topic)"
   ]
  },
  {
   "cell_type": "markdown",
   "metadata": {},
   "source": [
    "## 4. Retrieve variables and determinants associated with a topic"
   ]
  },
  {
   "cell_type": "code",
   "execution_count": 36,
   "metadata": {},
   "outputs": [],
   "source": [
    "def get_variables_by_topic_id(topic_id: str):\n",
    "  response = variables_api.get_variables(filter=f\"topic.id:{topic_id}\", limit=15)\n",
    "  return response.data"
   ]
  },
  {
   "cell_type": "code",
   "execution_count": 37,
   "metadata": {},
   "outputs": [
    {
     "name": "stdout",
     "output_type": "stream",
     "text": [
      "osteoporosis (ID: WE3gMwW_XO, reported in 580 studies)\n",
      "risk of osteoporosis (ID: QPOd9wGo9B, reported in 118 studies)\n",
      "Osteoporosis (ID: AnzcmtGO8d, reported in 110 studies)\n",
      "prevalence of osteoporosis (ID: mt2BZa1_7e, reported in 57 studies)\n",
      "osteoporosis risk (ID: CXrwLUzJjH, reported in 40 studies)\n",
      "incidence of osteoporosis (ID: j4OcL-v4SY, reported in 23 studies)\n",
      "Prevalence of osteoporosis (ID: skWIhK5ILX, reported in 21 studies)\n",
      "presence of osteoporosis (ID: 7u6BoN0l2m, reported in 15 studies)\n",
      "osteoporosis prevalence (ID: b3vcuk9SKT, reported in 14 studies)\n",
      "risk of developing osteoporosis (ID: Fq5lEpGOeV, reported in 13 studies)\n",
      "Patients with osteoporosis [vs Patients without osteoporosis] (ID: m-0X7jCJx1, reported in 12 studies)\n",
      "osteoporosis diagnosis (ID: 8btd5AURGn, reported in 12 studies)\n",
      "incident osteoporosis (ID: evB2qy9Z3j, reported in 10 studies)\n",
      "occurrence of osteoporosis (ID: 1h1dl0m0bL, reported in 10 studies)\n",
      "osteoporosis treatment (ID: D1selZO3Be, reported in 10 studies)\n"
     ]
    }
   ],
   "source": [
    "variable_id = get_variables_by_topic_id(topic_id=topic_id)\n",
    "for v in variable_id:\n",
    "\tpprint_variable(v)"
   ]
  },
  {
   "cell_type": "code",
   "execution_count": 38,
   "metadata": {},
   "outputs": [],
   "source": [
    "def get_determinants_by_topic_id(topic_id: str):\n",
    "  response = topics_api.get_topic_determinants(topic_id, filter=\"num_significant_findings:>1\", sort=\"median_effect_size:desc\")\n",
    "  return response.data"
   ]
  },
  {
   "cell_type": "code",
   "execution_count": 39,
   "metadata": {},
   "outputs": [
    {
     "name": "stdout",
     "output_type": "stream",
     "text": [
      "postmenopause (ID: ELjr0Yjdsc|YCCUBPRxoV, number of findings: 10, median effect size: 1.0974809933366865)\n",
      "sex (ID: wWbfsY5E0d|YCCUBPRxoV, number of findings: 72, median effect size: 0.7765715424921846)\n",
      "age group (ID: HejFSI-X_z|YCCUBPRxoV, number of findings: 31, median effect size: 0.5117541228885152)\n",
      "ethnicity and race (ID: EhpdS79G1u|YCCUBPRxoV, number of findings: 20, median effect size: 0.47573616584177714)\n",
      "menarche (ID: W_5xNoEZX9|YCCUBPRxoV, number of findings: 3, median effect size: 0.44730108995921114)\n",
      "fibroblast growth factor family (ID: i4pV-bfaG8|YCCUBPRxoV, number of findings: 7, median effect size: 0.33737861926793683)\n",
      "TNF receptor superfamily member 11b (ID: Lok8p6Sgq2|YCCUBPRxoV, number of findings: 8, median effect size: 0.1513049630037923)\n"
     ]
    }
   ],
   "source": [
    "determinants = get_determinants_by_topic_id(topic_id=topic_id)\n",
    "for d in determinants:\n",
    "\tpprint_determinant(d)"
   ]
  },
  {
   "cell_type": "markdown",
   "metadata": {},
   "source": [
    "## 5. Retrieve a relationship"
   ]
  },
  {
   "cell_type": "code",
   "execution_count": 40,
   "metadata": {},
   "outputs": [],
   "source": [
    "def get_relationship_by_id(relationship_id: str):\n",
    "\treturn relationships_api.get_relationship_by_id(relationship_id)"
   ]
  },
  {
   "cell_type": "code",
   "execution_count": 41,
   "metadata": {},
   "outputs": [
    {
     "name": "stdout",
     "output_type": "stream",
     "text": [
      "postmenopause -> osteoporosis (ID: ELjr0Yjdsc|YCCUBPRxoV, number of findings: 10, median effect size: 1.0974809933366865)\n"
     ]
    }
   ],
   "source": [
    "relationship_id = \"ELjr0Yjdsc|YCCUBPRxoV\" # Relationship between 'postmenopause' and 'osteoporosis'\n",
    "relationship = get_relationship_by_id(relationship_id=relationship_id)\n",
    "pprint_relationship(relationship)"
   ]
  },
  {
   "cell_type": "markdown",
   "metadata": {},
   "source": [
    "## 6. Search for and retrieve a study"
   ]
  },
  {
   "cell_type": "code",
   "execution_count": 42,
   "metadata": {},
   "outputs": [],
   "source": [
    "def get_study_by_doi(doi: str):\n",
    "\tresponse = studies_api.get_studies(filter=f\"doi:{doi}\")\n",
    "\treturn response.data"
   ]
  },
  {
   "cell_type": "code",
   "execution_count": 43,
   "metadata": {},
   "outputs": [
    {
     "name": "stdout",
     "output_type": "stream",
     "text": [
      "'Prevalence and risk factors of osteoporosis in Korea: a community-based cohort study with lumbar spine and hip bone mineral density.', 2010-08-01 (ID: BwNHkghmPt, DOI: 10.1016/j.bone.2010.03.017)\n",
      "The study population consisted of 1,547 men and 1991 women aged 40 years and older with BMD measurements from a prospective community-based cohort in Korea. Crude prevalence of osteoporosis in the whole subjects (40-79 years old) was 13.1% for men and 24.3% for women by WHO criteria, at any site among lumbar spine, femoral neck or total hip. The mean BMD of studied female subjects after age of 50 was not significantly different from that of Chinese but significantly lower than that of Japanese, non-Hispanic whites, non.Hispanic blacks and Mexican Americans.\n"
     ]
    }
   ],
   "source": [
    "study = get_study_by_doi(doi=\"10.1016/j.bone.2010.03.017\")\n",
    "for s in study:\n",
    "\tpprint_study(s)"
   ]
  },
  {
   "cell_type": "markdown",
   "metadata": {},
   "source": [
    "## 7. Retrieve statistical findings from relationships or studies"
   ]
  },
  {
   "cell_type": "code",
   "execution_count": 44,
   "metadata": {},
   "outputs": [],
   "source": [
    "def get_findings_by_relationship_id(relationship_id: str):\n",
    "  response = relationships_api.get_relationship_statistical_findings(relationship_id)\n",
    "  return response.data"
   ]
  },
  {
   "cell_type": "code",
   "execution_count": 45,
   "metadata": {},
   "outputs": [
    {
     "name": "stdout",
     "output_type": "stream",
     "text": [
      "Postmenopausal RA patients [vs Postmenopausal healthy controls] is associated with a 9.6 unit increase in the mean of Osteoporosis incidence.\n",
      "post-menopause status is associated with a 632.0% increase in the odds of osteoporosis.\n",
      "postmenopausal status is associated with a 1059.0% increase in the relative risk of spinal osteoporosis.\n",
      "Postmenopausal women [vs Premenopausal women] is associated with a -1.8 unit decrease in the mean of Time to develop osteoporosis.\n",
      "postmenopausal women (age >50) is associated with a 3360.0% increase in the odds of osteopenia/osteoporosis/osteopenia or LBD.\n",
      "Postmenopausal women [vs Premenopausal women] is associated with a 31.0 unit increase in the mean of Incidence of osteoporosis.\n",
      "Post-menopausal period [vs Pre-menopausal period] is associated with a 13.0 unit increase in the mean of Prevalence of osteopenia/osteoporosis.\n",
      "postmenopausal females [vs adult males] is associated with a 27.2 unit increase in the mean of prevalence of osteoporosis.\n",
      "Postmenopausal women aged ≥50 yr [vs Japanese subjects] is associated with a -5.8 unit decrease in the mean of Prevalence of Osteoporosis.\n",
      "postmenopausal women is associated with a 416.5% increase in the odds of osteoporosis.\n"
     ]
    }
   ],
   "source": [
    "relationship_findings = get_findings_by_relationship_id(\"ELjr0Yjdsc|YCCUBPRxoV\")\n",
    "for f in relationship_findings:\n",
    "\tpprint_finding(f)"
   ]
  },
  {
   "cell_type": "code",
   "execution_count": 46,
   "metadata": {},
   "outputs": [],
   "source": [
    "def get_findings_by_study_id(study_id: str):\n",
    "\tresponse = studies_api.get_study_statistical_findings(study_id)\n",
    "\treturn response.data"
   ]
  },
  {
   "cell_type": "code",
   "execution_count": 47,
   "metadata": {},
   "outputs": [
    {
     "name": "stdout",
     "output_type": "stream",
     "text": [
      "having more than three offspring (reproductive history) is associated with a 42.0% increase in the odds of osteoporosis.\n",
      "menarche after age of 16 is associated with a 46.0% increase in the odds of osteoporosis.\n",
      "post-menopause status is associated with a 632.0% increase in the odds of osteoporosis.\n",
      "last delivery after age of 30 is associated with a 58.0% increase in the odds of osteoporosis.\n",
      "more than 17 years since menopause is associated with a 53.0% increase in the odds of osteoporosis.\n",
      "smoking> or =1 pack/day is associated with a 63.0% increase in the odds of osteoporosis.\n",
      "past fracture history is associated with a 45.0% increase in the odds of osteoporosis.\n",
      "calcium intake> or =627.5 mg/day is associated with a -35.0% decrease in the odds of osteoporosis.\n",
      "monthly income above 500,000 won per household is associated with a -36.0% decrease in the odds of osteoporosis.\n",
      "college graduate is associated with a -71.0% decrease in the odds of osteoporosis.\n"
     ]
    }
   ],
   "source": [
    "study_findings = get_findings_by_study_id(study_id=\"BwNHkghmPt\")\n",
    "for f in study_findings:\n",
    "\tpprint_finding(f)"
   ]
  }
 ],
 "metadata": {
  "kernelspec": {
   "display_name": "Python 3 (ipykernel)",
   "language": "python",
   "name": "python3"
  },
  "language_info": {
   "codemirror_mode": {
    "name": "ipython",
    "version": 3
   },
   "file_extension": ".py",
   "mimetype": "text/x-python",
   "name": "python",
   "nbconvert_exporter": "python",
   "pygments_lexer": "ipython3",
   "version": "3.10.11"
  }
 },
 "nbformat": 4,
 "nbformat_minor": 4
}
